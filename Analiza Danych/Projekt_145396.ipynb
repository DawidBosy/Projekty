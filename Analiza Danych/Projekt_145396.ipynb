{
 "cells": [
  {
   "cell_type": "markdown",
   "metadata": {},
   "source": [
    "<big> <big> Analiza eksploracyjna oraz testy statystyczne danych dotyczących sprzedaży gier video </big> </big>\n",
    "<big> <br> Dawid Bosy nr indeksu 145396"
   ]
  },
  {
   "cell_type": "markdown",
   "metadata": {},
   "source": [
    "Poniższa analiza jest stworzona na danych dotyczących sprzedaży gier wideo, które osiągnęły wynik sprzedażowy powyżej 100 000 kopii. Dane są dostępne pod linkiem https://www.kaggle.com/gregorut/videogamesales i zostały wygenerowane na podstawie informacji od serwisu vgchartz.com. Zawierają informacje o nazwie gry, platformie na którą została wydana (m.in. PC, Playstation, Xbox ), roku wydania, gatunku, wydawnictwie, oraz sprzedaży w Europie, Północnej Ameryce, oraz Japonii."
   ]
  },
  {
   "cell_type": "code",
   "execution_count": 2,
   "metadata": {},
   "outputs": [],
   "source": [
    "file <- read.csv(\"C:\\\\Users\\\\Dawid\\\\Downloads\\\\vgsales.csv\")"
   ]
  },
  {
   "cell_type": "code",
   "execution_count": 11,
   "metadata": {},
   "outputs": [
    {
     "data": {
      "text/html": [
       "<table>\n",
       "<thead><tr><th scope=col>Rank</th><th scope=col>Name</th><th scope=col>Platform</th><th scope=col>Year</th><th scope=col>Genre</th><th scope=col>Publisher</th><th scope=col>NA_Sales</th><th scope=col>EU_Sales</th><th scope=col>JP_Sales</th><th scope=col>Other_Sales</th><th scope=col>Global_Sales</th></tr></thead>\n",
       "<tbody>\n",
       "\t<tr><td> 1                                          </td><td>Wii Sports                                  </td><td>Wii                                         </td><td>2006                                        </td><td>Sports                                      </td><td>Nintendo                                    </td><td>41.49                                       </td><td>29.02                                       </td><td> 3.77                                       </td><td> 8.46                                       </td><td>82.74                                       </td></tr>\n",
       "\t<tr><td> 2                                          </td><td>Super Mario Bros.                           </td><td>NES                                         </td><td>1985                                        </td><td>Platform                                    </td><td>Nintendo                                    </td><td>29.08                                       </td><td> 3.58                                       </td><td> 6.81                                       </td><td> 0.77                                       </td><td>40.24                                       </td></tr>\n",
       "\t<tr><td> 3                                          </td><td>Mario Kart Wii                              </td><td>Wii                                         </td><td>2008                                        </td><td>Racing                                      </td><td>Nintendo                                    </td><td>15.85                                       </td><td>12.88                                       </td><td> 3.79                                       </td><td> 3.31                                       </td><td>35.82                                       </td></tr>\n",
       "\t<tr><td> 4                                          </td><td>Wii Sports Resort                           </td><td>Wii                                         </td><td>2009                                        </td><td>Sports                                      </td><td>Nintendo                                    </td><td>15.75                                       </td><td>11.01                                       </td><td> 3.28                                       </td><td> 2.96                                       </td><td>33.00                                       </td></tr>\n",
       "\t<tr><td> 5                                          </td><td>Pokemon Red/Pokemon Blue                    </td><td>GB                                          </td><td>1996                                        </td><td>Role-Playing                                </td><td>Nintendo                                    </td><td>11.27                                       </td><td> 8.89                                       </td><td>10.22                                       </td><td> 1.00                                       </td><td>31.37                                       </td></tr>\n",
       "\t<tr><td> 6                                          </td><td>Tetris                                      </td><td>GB                                          </td><td>1989                                        </td><td>Puzzle                                      </td><td>Nintendo                                    </td><td>23.20                                       </td><td> 2.26                                       </td><td> 4.22                                       </td><td> 0.58                                       </td><td>30.26                                       </td></tr>\n",
       "\t<tr><td> 7                                          </td><td>New Super Mario Bros.                       </td><td>DS                                          </td><td>2006                                        </td><td>Platform                                    </td><td>Nintendo                                    </td><td>11.38                                       </td><td> 9.23                                       </td><td> 6.50                                       </td><td> 2.90                                       </td><td>30.01                                       </td></tr>\n",
       "\t<tr><td> 8                                          </td><td>Wii Play                                    </td><td>Wii                                         </td><td>2006                                        </td><td>Misc                                        </td><td>Nintendo                                    </td><td>14.03                                       </td><td> 9.20                                       </td><td> 2.93                                       </td><td> 2.85                                       </td><td>29.02                                       </td></tr>\n",
       "\t<tr><td> 9                                          </td><td>New Super Mario Bros. Wii                   </td><td>Wii                                         </td><td>2009                                        </td><td>Platform                                    </td><td>Nintendo                                    </td><td>14.59                                       </td><td> 7.06                                       </td><td> 4.70                                       </td><td> 2.26                                       </td><td>28.62                                       </td></tr>\n",
       "\t<tr><td>10                                          </td><td>Duck Hunt                                   </td><td>NES                                         </td><td>1984                                        </td><td>Shooter                                     </td><td>Nintendo                                    </td><td>26.93                                       </td><td> 0.63                                       </td><td> 0.28                                       </td><td> 0.47                                       </td><td>28.31                                       </td></tr>\n",
       "\t<tr><td>11                                          </td><td>Nintendogs                                  </td><td>DS                                          </td><td>2005                                        </td><td>Simulation                                  </td><td>Nintendo                                    </td><td> 9.07                                       </td><td>11.00                                       </td><td> 1.93                                       </td><td> 2.75                                       </td><td>24.76                                       </td></tr>\n",
       "\t<tr><td>12                                          </td><td>Mario Kart DS                               </td><td>DS                                          </td><td>2005                                        </td><td>Racing                                      </td><td>Nintendo                                    </td><td> 9.81                                       </td><td> 7.57                                       </td><td> 4.13                                       </td><td> 1.92                                       </td><td>23.42                                       </td></tr>\n",
       "\t<tr><td>13                                          </td><td>Pokemon Gold/Pokemon Silver                 </td><td>GB                                          </td><td>1999                                        </td><td>Role-Playing                                </td><td>Nintendo                                    </td><td> 9.00                                       </td><td> 6.18                                       </td><td> 7.20                                       </td><td> 0.71                                       </td><td>23.10                                       </td></tr>\n",
       "\t<tr><td>14                                          </td><td>Wii Fit                                     </td><td>Wii                                         </td><td>2007                                        </td><td>Sports                                      </td><td>Nintendo                                    </td><td> 8.94                                       </td><td> 8.03                                       </td><td> 3.60                                       </td><td> 2.15                                       </td><td>22.72                                       </td></tr>\n",
       "\t<tr><td>15                                          </td><td>Wii Fit Plus                                </td><td>Wii                                         </td><td>2009                                        </td><td>Sports                                      </td><td>Nintendo                                    </td><td> 9.09                                       </td><td> 8.59                                       </td><td> 2.53                                       </td><td> 1.79                                       </td><td>22.00                                       </td></tr>\n",
       "\t<tr><td>16                                          </td><td>Kinect Adventures!                          </td><td>X360                                        </td><td>2010                                        </td><td>Misc                                        </td><td>Microsoft Game Studios                      </td><td>14.97                                       </td><td> 4.94                                       </td><td> 0.24                                       </td><td> 1.67                                       </td><td>21.82                                       </td></tr>\n",
       "\t<tr><td>17                                          </td><td>Grand Theft Auto V                          </td><td>PS3                                         </td><td>2013                                        </td><td>Action                                      </td><td>Take-Two Interactive                        </td><td> 7.01                                       </td><td> 9.27                                       </td><td> 0.97                                       </td><td> 4.14                                       </td><td>21.40                                       </td></tr>\n",
       "\t<tr><td>18                                          </td><td>Grand Theft Auto: San Andreas               </td><td>PS2                                         </td><td>2004                                        </td><td>Action                                      </td><td>Take-Two Interactive                        </td><td> 9.43                                       </td><td> 0.40                                       </td><td> 0.41                                       </td><td>10.57                                       </td><td>20.81                                       </td></tr>\n",
       "\t<tr><td>19                                          </td><td>Super Mario World                           </td><td>SNES                                        </td><td>1990                                        </td><td>Platform                                    </td><td>Nintendo                                    </td><td>12.78                                       </td><td> 3.75                                       </td><td> 3.54                                       </td><td> 0.55                                       </td><td>20.61                                       </td></tr>\n",
       "\t<tr><td>20                                          </td><td>Brain Age: Train Your Brain in Minutes a Day</td><td>DS                                          </td><td>2005                                        </td><td>Misc                                        </td><td>Nintendo                                    </td><td> 4.75                                       </td><td> 9.26                                       </td><td> 4.16                                       </td><td> 2.05                                       </td><td>20.22                                       </td></tr>\n",
       "\t<tr><td>21                                          </td><td>Pokemon Diamond/Pokemon Pearl               </td><td>DS                                          </td><td>2006                                        </td><td>Role-Playing                                </td><td>Nintendo                                    </td><td> 6.42                                       </td><td> 4.52                                       </td><td> 6.04                                       </td><td> 1.37                                       </td><td>18.36                                       </td></tr>\n",
       "\t<tr><td>22                                          </td><td>Super Mario Land                            </td><td>GB                                          </td><td>1989                                        </td><td>Platform                                    </td><td>Nintendo                                    </td><td>10.83                                       </td><td> 2.71                                       </td><td> 4.18                                       </td><td> 0.42                                       </td><td>18.14                                       </td></tr>\n",
       "\t<tr><td>23                                          </td><td>Super Mario Bros. 3                         </td><td>NES                                         </td><td>1988                                        </td><td>Platform                                    </td><td>Nintendo                                    </td><td> 9.54                                       </td><td> 3.44                                       </td><td> 3.84                                       </td><td> 0.46                                       </td><td>17.28                                       </td></tr>\n",
       "\t<tr><td>24                                          </td><td>Grand Theft Auto V                          </td><td>X360                                        </td><td>2013                                        </td><td>Action                                      </td><td>Take-Two Interactive                        </td><td> 9.63                                       </td><td> 5.31                                       </td><td> 0.06                                       </td><td> 1.38                                       </td><td>16.38                                       </td></tr>\n",
       "\t<tr><td>25                                          </td><td>Grand Theft Auto: Vice City                 </td><td>PS2                                         </td><td>2002                                        </td><td>Action                                      </td><td>Take-Two Interactive                        </td><td> 8.41                                       </td><td> 5.49                                       </td><td> 0.47                                       </td><td> 1.78                                       </td><td>16.15                                       </td></tr>\n",
       "\t<tr><td>26                                          </td><td>Pokemon Ruby/Pokemon Sapphire               </td><td>GBA                                         </td><td>2002                                        </td><td>Role-Playing                                </td><td>Nintendo                                    </td><td> 6.06                                       </td><td> 3.90                                       </td><td> 5.38                                       </td><td> 0.50                                       </td><td>15.85                                       </td></tr>\n",
       "\t<tr><td>27                                          </td><td>Pokemon Black/Pokemon White                 </td><td>DS                                          </td><td>2010                                        </td><td>Role-Playing                                </td><td>Nintendo                                    </td><td> 5.57                                       </td><td> 3.28                                       </td><td> 5.65                                       </td><td> 0.82                                       </td><td>15.32                                       </td></tr>\n",
       "\t<tr><td>28                                          </td><td>Brain Age 2: More Training in Minutes a Day </td><td>DS                                          </td><td>2005                                        </td><td>Puzzle                                      </td><td>Nintendo                                    </td><td> 3.44                                       </td><td> 5.36                                       </td><td> 5.32                                       </td><td> 1.18                                       </td><td>15.30                                       </td></tr>\n",
       "\t<tr><td>29                                          </td><td>Gran Turismo 3: A-Spec                      </td><td>PS2                                         </td><td>2001                                        </td><td>Racing                                      </td><td>Sony Computer Entertainment                 </td><td> 6.85                                       </td><td> 5.09                                       </td><td> 1.87                                       </td><td> 1.16                                       </td><td>14.98                                       </td></tr>\n",
       "\t<tr><td>30                                          </td><td>Call of Duty: Modern Warfare 3              </td><td>X360                                        </td><td>2011                                        </td><td>Shooter                                     </td><td>Activision                                  </td><td> 9.03                                       </td><td> 4.28                                       </td><td> 0.13                                       </td><td> 1.32                                       </td><td>14.76                                       </td></tr>\n",
       "\t<tr><td>...</td><td>...</td><td>...</td><td>...</td><td>...</td><td>...</td><td>...</td><td>...</td><td>...</td><td>...</td><td>...</td></tr>\n",
       "\t<tr><td>16571                                                      </td><td>XI Coliseum                                                </td><td>PSP                                                        </td><td>2006                                                       </td><td>Puzzle                                                     </td><td>Sony Computer Entertainment                                </td><td>0.00                                                       </td><td>0.00                                                       </td><td>0.01                                                       </td><td>0                                                          </td><td>0.01                                                       </td></tr>\n",
       "\t<tr><td>16572                                                      </td><td>Resident Evil 4 HD                                         </td><td>XOne                                                       </td><td>2016                                                       </td><td>Shooter                                                    </td><td>Capcom                                                     </td><td>0.01                                                       </td><td>0.00                                                       </td><td>0.00                                                       </td><td>0                                                          </td><td>0.01                                                       </td></tr>\n",
       "\t<tr><td>16573                                                      </td><td>Farming 2017 - The Simulation                              </td><td>PS4                                                        </td><td>2016                                                       </td><td>Simulation                                                 </td><td>UIG Entertainment                                          </td><td>0.00                                                       </td><td>0.01                                                       </td><td>0.00                                                       </td><td>0                                                          </td><td>0.01                                                       </td></tr>\n",
       "\t<tr><td>16574                                                      </td><td>Grisaia no Kajitsu: La Fruit de la Grisaia                 </td><td>PSP                                                        </td><td>2013                                                       </td><td>Adventure                                                  </td><td>Prototype                                                  </td><td>0.00                                                       </td><td>0.00                                                       </td><td>0.01                                                       </td><td>0                                                          </td><td>0.01                                                       </td></tr>\n",
       "\t<tr><td>16575                                                      </td><td>Scarlett: Nichijou no Kyoukaisen                           </td><td>PS2                                                        </td><td>2008                                                       </td><td>Adventure                                                  </td><td>Kadokawa Shoten                                            </td><td>0.00                                                       </td><td>0.00                                                       </td><td>0.01                                                       </td><td>0                                                          </td><td>0.01                                                       </td></tr>\n",
       "\t<tr><td>16576                                                      </td><td>Mini Desktop Racing                                        </td><td>Wii                                                        </td><td>2007                                                       </td><td>Racing                                                     </td><td>Popcorn Arcade                                             </td><td>0.01                                                       </td><td>0.00                                                       </td><td>0.00                                                       </td><td>0                                                          </td><td>0.01                                                       </td></tr>\n",
       "\t<tr><td>16577                                                      </td><td>Yattaman Wii: BikkuriDokkiri Machine de Mou Race da Koron  </td><td>Wii                                                        </td><td>2008                                                       </td><td>Racing                                                     </td><td>Takara Tomy                                                </td><td>0.00                                                       </td><td>0.00                                                       </td><td>0.01                                                       </td><td>0                                                          </td><td>0.01                                                       </td></tr>\n",
       "\t<tr><td>16578                                                      </td><td>Neo Angelique Special                                      </td><td>PSP                                                        </td><td>2008                                                       </td><td>Adventure                                                  </td><td>Tecmo Koei                                                 </td><td>0.00                                                       </td><td>0.00                                                       </td><td>0.01                                                       </td><td>0                                                          </td><td>0.01                                                       </td></tr>\n",
       "\t<tr><td>16579                                                      </td><td>Rugby Challenge 3                                          </td><td>XOne                                                       </td><td>2016                                                       </td><td>Sports                                                     </td><td>Alternative Software                                       </td><td>0.00                                                       </td><td>0.01                                                       </td><td>0.00                                                       </td><td>0                                                          </td><td>0.01                                                       </td></tr>\n",
       "\t<tr><td>16580                                                      </td><td>Damnation                                                  </td><td>PC                                                         </td><td>2009                                                       </td><td>Shooter                                                    </td><td>Codemasters                                                </td><td>0.00                                                       </td><td>0.01                                                       </td><td>0.00                                                       </td><td>0                                                          </td><td>0.01                                                       </td></tr>\n",
       "\t<tr><td>16581                                                      </td><td>Outdoors Unleashed: Africa 3D                              </td><td>3DS                                                        </td><td>2011                                                       </td><td>Sports                                                     </td><td>Mastiff                                                    </td><td>0.01                                                       </td><td>0.00                                                       </td><td>0.00                                                       </td><td>0                                                          </td><td>0.01                                                       </td></tr>\n",
       "\t<tr><td>16582                                                      </td><td>PGA European Tour                                          </td><td>N64                                                        </td><td>2000                                                       </td><td>Sports                                                     </td><td>Infogrames                                                 </td><td>0.01                                                       </td><td>0.00                                                       </td><td>0.00                                                       </td><td>0                                                          </td><td>0.01                                                       </td></tr>\n",
       "\t<tr><td>16583                                                      </td><td>Real Rode                                                  </td><td>PS2                                                        </td><td>2008                                                       </td><td>Adventure                                                  </td><td>Kadokawa Shoten                                            </td><td>0.00                                                       </td><td>0.00                                                       </td><td>0.01                                                       </td><td>0                                                          </td><td>0.01                                                       </td></tr>\n",
       "\t<tr><td>16584                                                                                                  </td><td><span style=white-space:pre-wrap>Fit &amp; Fun                                                  </span></td><td>Wii                                                                                                    </td><td>2011                                                                                                   </td><td><span style=white-space:pre-wrap>Sports      </span>                                                   </td><td><span style=white-space:pre-wrap>Unknown                    </span>                                    </td><td>0.00                                                                                                   </td><td>0.01                                                                                                   </td><td>0.00                                                                                                   </td><td>0                                                                                                      </td><td>0.01                                                                                                   </td></tr>\n",
       "\t<tr><td>16585                                                      </td><td>Planet Monsters                                            </td><td>GBA                                                        </td><td>2001                                                       </td><td>Action                                                     </td><td>Titus                                                      </td><td>0.01                                                       </td><td>0.00                                                       </td><td>0.00                                                       </td><td>0                                                          </td><td>0.01                                                       </td></tr>\n",
       "\t<tr><td>16586                                                      </td><td>Carmageddon 64                                             </td><td>N64                                                        </td><td>1999                                                       </td><td>Action                                                     </td><td>Virgin Interactive                                         </td><td>0.01                                                       </td><td>0.00                                                       </td><td>0.00                                                       </td><td>0                                                          </td><td>0.01                                                       </td></tr>\n",
       "\t<tr><td>16587                                                      </td><td>Bust-A-Move 3000                                           </td><td>GC                                                         </td><td>2003                                                       </td><td>Puzzle                                                     </td><td>Ubisoft                                                    </td><td>0.01                                                       </td><td>0.00                                                       </td><td>0.00                                                       </td><td>0                                                          </td><td>0.01                                                       </td></tr>\n",
       "\t<tr><td>16588                                                      </td><td>Breach                                                     </td><td>PC                                                         </td><td>2011                                                       </td><td>Shooter                                                    </td><td>Destineer                                                  </td><td>0.01                                                       </td><td>0.00                                                       </td><td>0.00                                                       </td><td>0                                                          </td><td>0.01                                                       </td></tr>\n",
       "\t<tr><td>16589                                                      </td><td>Secret Files 2: Puritas Cordis                             </td><td>DS                                                         </td><td>2009                                                       </td><td>Adventure                                                  </td><td>Deep Silver                                                </td><td>0.00                                                       </td><td>0.01                                                       </td><td>0.00                                                       </td><td>0                                                          </td><td>0.01                                                       </td></tr>\n",
       "\t<tr><td>16590                                                      </td><td>Mezase!! Tsuri Master DS                                   </td><td>DS                                                         </td><td>2009                                                       </td><td>Sports                                                     </td><td>Hudson Soft                                                </td><td>0.00                                                       </td><td>0.00                                                       </td><td>0.01                                                       </td><td>0                                                          </td><td>0.01                                                       </td></tr>\n",
       "\t<tr><td>16591                                                      </td><td>Mega Brain Boost                                           </td><td>DS                                                         </td><td>2008                                                       </td><td>Puzzle                                                     </td><td>Majesco Entertainment                                      </td><td>0.01                                                       </td><td>0.00                                                       </td><td>0.00                                                       </td><td>0                                                          </td><td>0.01                                                       </td></tr>\n",
       "\t<tr><td>16592                                                      </td><td>Chou Ezaru wa Akai Hana: Koi wa Tsuki ni Shirube Kareru    </td><td>PSV                                                        </td><td>2016                                                       </td><td>Action                                                     </td><td>dramatic create                                            </td><td>0.00                                                       </td><td>0.00                                                       </td><td>0.01                                                       </td><td>0                                                          </td><td>0.01                                                       </td></tr>\n",
       "\t<tr><td>16593                                                      </td><td>Eiyuu Densetsu: Sora no Kiseki Material Collection Portable</td><td>PSP                                                        </td><td>2007                                                       </td><td>Role-Playing                                               </td><td>Falcom Corporation                                         </td><td>0.00                                                       </td><td>0.00                                                       </td><td>0.01                                                       </td><td>0                                                          </td><td>0.01                                                       </td></tr>\n",
       "\t<tr><td>16594                                                      </td><td>Myst IV: Revelation                                        </td><td>PC                                                         </td><td>2004                                                       </td><td>Adventure                                                  </td><td>Ubisoft                                                    </td><td>0.01                                                       </td><td>0.00                                                       </td><td>0.00                                                       </td><td>0                                                          </td><td>0.01                                                       </td></tr>\n",
       "\t<tr><td>16595                                                      </td><td>Plushees                                                   </td><td>DS                                                         </td><td>2008                                                       </td><td>Simulation                                                 </td><td>Destineer                                                  </td><td>0.01                                                       </td><td>0.00                                                       </td><td>0.00                                                       </td><td>0                                                          </td><td>0.01                                                       </td></tr>\n",
       "\t<tr><td>16596                                                      </td><td>Woody Woodpecker in Crazy Castle 5                         </td><td>GBA                                                        </td><td>2002                                                       </td><td>Platform                                                   </td><td>Kemco                                                      </td><td>0.01                                                       </td><td>0.00                                                       </td><td>0.00                                                       </td><td>0                                                          </td><td>0.01                                                       </td></tr>\n",
       "\t<tr><td>16597                                                      </td><td>Men in Black II: Alien Escape                              </td><td>GC                                                         </td><td>2003                                                       </td><td>Shooter                                                    </td><td>Infogrames                                                 </td><td>0.01                                                       </td><td>0.00                                                       </td><td>0.00                                                       </td><td>0                                                          </td><td>0.01                                                       </td></tr>\n",
       "\t<tr><td>16598                                                      </td><td>SCORE International Baja 1000: The Official Game           </td><td>PS2                                                        </td><td>2008                                                       </td><td>Racing                                                     </td><td>Activision                                                 </td><td>0.00                                                       </td><td>0.00                                                       </td><td>0.00                                                       </td><td>0                                                          </td><td>0.01                                                       </td></tr>\n",
       "\t<tr><td>16599                                                      </td><td>Know How 2                                                 </td><td>DS                                                         </td><td>2010                                                       </td><td>Puzzle                                                     </td><td>7G//AMES                                                   </td><td>0.00                                                       </td><td>0.01                                                       </td><td>0.00                                                       </td><td>0                                                          </td><td>0.01                                                       </td></tr>\n",
       "\t<tr><td>16600                                                                                                  </td><td><span style=white-space:pre-wrap>Spirits &amp; Spells                                           </span></td><td>GBA                                                                                                    </td><td>2003                                                                                                   </td><td><span style=white-space:pre-wrap>Platform    </span>                                                   </td><td><span style=white-space:pre-wrap>Wanadoo                    </span>                                    </td><td>0.01                                                                                                   </td><td>0.00                                                                                                   </td><td>0.00                                                                                                   </td><td>0                                                                                                      </td><td>0.01                                                                                                   </td></tr>\n",
       "</tbody>\n",
       "</table>\n"
      ],
      "text/latex": [
       "\\begin{tabular}{r|lllllllllll}\n",
       " Rank & Name & Platform & Year & Genre & Publisher & NA\\_Sales & EU\\_Sales & JP\\_Sales & Other\\_Sales & Global\\_Sales\\\\\n",
       "\\hline\n",
       "\t  1                                           & Wii Sports                                   & Wii                                          & 2006                                         & Sports                                       & Nintendo                                     & 41.49                                        & 29.02                                        &  3.77                                        &  8.46                                        & 82.74                                       \\\\\n",
       "\t  2                                           & Super Mario Bros.                            & NES                                          & 1985                                         & Platform                                     & Nintendo                                     & 29.08                                        &  3.58                                        &  6.81                                        &  0.77                                        & 40.24                                       \\\\\n",
       "\t  3                                           & Mario Kart Wii                               & Wii                                          & 2008                                         & Racing                                       & Nintendo                                     & 15.85                                        & 12.88                                        &  3.79                                        &  3.31                                        & 35.82                                       \\\\\n",
       "\t  4                                           & Wii Sports Resort                            & Wii                                          & 2009                                         & Sports                                       & Nintendo                                     & 15.75                                        & 11.01                                        &  3.28                                        &  2.96                                        & 33.00                                       \\\\\n",
       "\t  5                                           & Pokemon Red/Pokemon Blue                     & GB                                           & 1996                                         & Role-Playing                                 & Nintendo                                     & 11.27                                        &  8.89                                        & 10.22                                        &  1.00                                        & 31.37                                       \\\\\n",
       "\t  6                                           & Tetris                                       & GB                                           & 1989                                         & Puzzle                                       & Nintendo                                     & 23.20                                        &  2.26                                        &  4.22                                        &  0.58                                        & 30.26                                       \\\\\n",
       "\t  7                                           & New Super Mario Bros.                        & DS                                           & 2006                                         & Platform                                     & Nintendo                                     & 11.38                                        &  9.23                                        &  6.50                                        &  2.90                                        & 30.01                                       \\\\\n",
       "\t  8                                           & Wii Play                                     & Wii                                          & 2006                                         & Misc                                         & Nintendo                                     & 14.03                                        &  9.20                                        &  2.93                                        &  2.85                                        & 29.02                                       \\\\\n",
       "\t  9                                           & New Super Mario Bros. Wii                    & Wii                                          & 2009                                         & Platform                                     & Nintendo                                     & 14.59                                        &  7.06                                        &  4.70                                        &  2.26                                        & 28.62                                       \\\\\n",
       "\t 10                                           & Duck Hunt                                    & NES                                          & 1984                                         & Shooter                                      & Nintendo                                     & 26.93                                        &  0.63                                        &  0.28                                        &  0.47                                        & 28.31                                       \\\\\n",
       "\t 11                                           & Nintendogs                                   & DS                                           & 2005                                         & Simulation                                   & Nintendo                                     &  9.07                                        & 11.00                                        &  1.93                                        &  2.75                                        & 24.76                                       \\\\\n",
       "\t 12                                           & Mario Kart DS                                & DS                                           & 2005                                         & Racing                                       & Nintendo                                     &  9.81                                        &  7.57                                        &  4.13                                        &  1.92                                        & 23.42                                       \\\\\n",
       "\t 13                                           & Pokemon Gold/Pokemon Silver                  & GB                                           & 1999                                         & Role-Playing                                 & Nintendo                                     &  9.00                                        &  6.18                                        &  7.20                                        &  0.71                                        & 23.10                                       \\\\\n",
       "\t 14                                           & Wii Fit                                      & Wii                                          & 2007                                         & Sports                                       & Nintendo                                     &  8.94                                        &  8.03                                        &  3.60                                        &  2.15                                        & 22.72                                       \\\\\n",
       "\t 15                                           & Wii Fit Plus                                 & Wii                                          & 2009                                         & Sports                                       & Nintendo                                     &  9.09                                        &  8.59                                        &  2.53                                        &  1.79                                        & 22.00                                       \\\\\n",
       "\t 16                                           & Kinect Adventures!                           & X360                                         & 2010                                         & Misc                                         & Microsoft Game Studios                       & 14.97                                        &  4.94                                        &  0.24                                        &  1.67                                        & 21.82                                       \\\\\n",
       "\t 17                                           & Grand Theft Auto V                           & PS3                                          & 2013                                         & Action                                       & Take-Two Interactive                         &  7.01                                        &  9.27                                        &  0.97                                        &  4.14                                        & 21.40                                       \\\\\n",
       "\t 18                                           & Grand Theft Auto: San Andreas                & PS2                                          & 2004                                         & Action                                       & Take-Two Interactive                         &  9.43                                        &  0.40                                        &  0.41                                        & 10.57                                        & 20.81                                       \\\\\n",
       "\t 19                                           & Super Mario World                            & SNES                                         & 1990                                         & Platform                                     & Nintendo                                     & 12.78                                        &  3.75                                        &  3.54                                        &  0.55                                        & 20.61                                       \\\\\n",
       "\t 20                                           & Brain Age: Train Your Brain in Minutes a Day & DS                                           & 2005                                         & Misc                                         & Nintendo                                     &  4.75                                        &  9.26                                        &  4.16                                        &  2.05                                        & 20.22                                       \\\\\n",
       "\t 21                                           & Pokemon Diamond/Pokemon Pearl                & DS                                           & 2006                                         & Role-Playing                                 & Nintendo                                     &  6.42                                        &  4.52                                        &  6.04                                        &  1.37                                        & 18.36                                       \\\\\n",
       "\t 22                                           & Super Mario Land                             & GB                                           & 1989                                         & Platform                                     & Nintendo                                     & 10.83                                        &  2.71                                        &  4.18                                        &  0.42                                        & 18.14                                       \\\\\n",
       "\t 23                                           & Super Mario Bros. 3                          & NES                                          & 1988                                         & Platform                                     & Nintendo                                     &  9.54                                        &  3.44                                        &  3.84                                        &  0.46                                        & 17.28                                       \\\\\n",
       "\t 24                                           & Grand Theft Auto V                           & X360                                         & 2013                                         & Action                                       & Take-Two Interactive                         &  9.63                                        &  5.31                                        &  0.06                                        &  1.38                                        & 16.38                                       \\\\\n",
       "\t 25                                           & Grand Theft Auto: Vice City                  & PS2                                          & 2002                                         & Action                                       & Take-Two Interactive                         &  8.41                                        &  5.49                                        &  0.47                                        &  1.78                                        & 16.15                                       \\\\\n",
       "\t 26                                           & Pokemon Ruby/Pokemon Sapphire                & GBA                                          & 2002                                         & Role-Playing                                 & Nintendo                                     &  6.06                                        &  3.90                                        &  5.38                                        &  0.50                                        & 15.85                                       \\\\\n",
       "\t 27                                           & Pokemon Black/Pokemon White                  & DS                                           & 2010                                         & Role-Playing                                 & Nintendo                                     &  5.57                                        &  3.28                                        &  5.65                                        &  0.82                                        & 15.32                                       \\\\\n",
       "\t 28                                           & Brain Age 2: More Training in Minutes a Day  & DS                                           & 2005                                         & Puzzle                                       & Nintendo                                     &  3.44                                        &  5.36                                        &  5.32                                        &  1.18                                        & 15.30                                       \\\\\n",
       "\t 29                                           & Gran Turismo 3: A-Spec                       & PS2                                          & 2001                                         & Racing                                       & Sony Computer Entertainment                  &  6.85                                        &  5.09                                        &  1.87                                        &  1.16                                        & 14.98                                       \\\\\n",
       "\t 30                                           & Call of Duty: Modern Warfare 3               & X360                                         & 2011                                         & Shooter                                      & Activision                                   &  9.03                                        &  4.28                                        &  0.13                                        &  1.32                                        & 14.76                                       \\\\\n",
       "\t ... & ... & ... & ... & ... & ... & ... & ... & ... & ... & ...\\\\\n",
       "\t 16571                                                       & XI Coliseum                                                 & PSP                                                         & 2006                                                        & Puzzle                                                      & Sony Computer Entertainment                                 & 0.00                                                        & 0.00                                                        & 0.01                                                        & 0                                                           & 0.01                                                       \\\\\n",
       "\t 16572                                                       & Resident Evil 4 HD                                          & XOne                                                        & 2016                                                        & Shooter                                                     & Capcom                                                      & 0.01                                                        & 0.00                                                        & 0.00                                                        & 0                                                           & 0.01                                                       \\\\\n",
       "\t 16573                                                       & Farming 2017 - The Simulation                               & PS4                                                         & 2016                                                        & Simulation                                                  & UIG Entertainment                                           & 0.00                                                        & 0.01                                                        & 0.00                                                        & 0                                                           & 0.01                                                       \\\\\n",
       "\t 16574                                                       & Grisaia no Kajitsu: La Fruit de la Grisaia                  & PSP                                                         & 2013                                                        & Adventure                                                   & Prototype                                                   & 0.00                                                        & 0.00                                                        & 0.01                                                        & 0                                                           & 0.01                                                       \\\\\n",
       "\t 16575                                                       & Scarlett: Nichijou no Kyoukaisen                            & PS2                                                         & 2008                                                        & Adventure                                                   & Kadokawa Shoten                                             & 0.00                                                        & 0.00                                                        & 0.01                                                        & 0                                                           & 0.01                                                       \\\\\n",
       "\t 16576                                                       & Mini Desktop Racing                                         & Wii                                                         & 2007                                                        & Racing                                                      & Popcorn Arcade                                              & 0.01                                                        & 0.00                                                        & 0.00                                                        & 0                                                           & 0.01                                                       \\\\\n",
       "\t 16577                                                       & Yattaman Wii: BikkuriDokkiri Machine de Mou Race da Koron   & Wii                                                         & 2008                                                        & Racing                                                      & Takara Tomy                                                 & 0.00                                                        & 0.00                                                        & 0.01                                                        & 0                                                           & 0.01                                                       \\\\\n",
       "\t 16578                                                       & Neo Angelique Special                                       & PSP                                                         & 2008                                                        & Adventure                                                   & Tecmo Koei                                                  & 0.00                                                        & 0.00                                                        & 0.01                                                        & 0                                                           & 0.01                                                       \\\\\n",
       "\t 16579                                                       & Rugby Challenge 3                                           & XOne                                                        & 2016                                                        & Sports                                                      & Alternative Software                                        & 0.00                                                        & 0.01                                                        & 0.00                                                        & 0                                                           & 0.01                                                       \\\\\n",
       "\t 16580                                                       & Damnation                                                   & PC                                                          & 2009                                                        & Shooter                                                     & Codemasters                                                 & 0.00                                                        & 0.01                                                        & 0.00                                                        & 0                                                           & 0.01                                                       \\\\\n",
       "\t 16581                                                       & Outdoors Unleashed: Africa 3D                               & 3DS                                                         & 2011                                                        & Sports                                                      & Mastiff                                                     & 0.01                                                        & 0.00                                                        & 0.00                                                        & 0                                                           & 0.01                                                       \\\\\n",
       "\t 16582                                                       & PGA European Tour                                           & N64                                                         & 2000                                                        & Sports                                                      & Infogrames                                                  & 0.01                                                        & 0.00                                                        & 0.00                                                        & 0                                                           & 0.01                                                       \\\\\n",
       "\t 16583                                                       & Real Rode                                                   & PS2                                                         & 2008                                                        & Adventure                                                   & Kadokawa Shoten                                             & 0.00                                                        & 0.00                                                        & 0.01                                                        & 0                                                           & 0.01                                                       \\\\\n",
       "\t 16584                                                         & Fit \\& Fun                                                   & Wii                                                           & 2011                                                          & Sports                                                        & Unknown                                                       & 0.00                                                          & 0.01                                                          & 0.00                                                          & 0                                                             & 0.01                                                         \\\\\n",
       "\t 16585                                                       & Planet Monsters                                             & GBA                                                         & 2001                                                        & Action                                                      & Titus                                                       & 0.01                                                        & 0.00                                                        & 0.00                                                        & 0                                                           & 0.01                                                       \\\\\n",
       "\t 16586                                                       & Carmageddon 64                                              & N64                                                         & 1999                                                        & Action                                                      & Virgin Interactive                                          & 0.01                                                        & 0.00                                                        & 0.00                                                        & 0                                                           & 0.01                                                       \\\\\n",
       "\t 16587                                                       & Bust-A-Move 3000                                            & GC                                                          & 2003                                                        & Puzzle                                                      & Ubisoft                                                     & 0.01                                                        & 0.00                                                        & 0.00                                                        & 0                                                           & 0.01                                                       \\\\\n",
       "\t 16588                                                       & Breach                                                      & PC                                                          & 2011                                                        & Shooter                                                     & Destineer                                                   & 0.01                                                        & 0.00                                                        & 0.00                                                        & 0                                                           & 0.01                                                       \\\\\n",
       "\t 16589                                                       & Secret Files 2: Puritas Cordis                              & DS                                                          & 2009                                                        & Adventure                                                   & Deep Silver                                                 & 0.00                                                        & 0.01                                                        & 0.00                                                        & 0                                                           & 0.01                                                       \\\\\n",
       "\t 16590                                                       & Mezase!! Tsuri Master DS                                    & DS                                                          & 2009                                                        & Sports                                                      & Hudson Soft                                                 & 0.00                                                        & 0.00                                                        & 0.01                                                        & 0                                                           & 0.01                                                       \\\\\n",
       "\t 16591                                                       & Mega Brain Boost                                            & DS                                                          & 2008                                                        & Puzzle                                                      & Majesco Entertainment                                       & 0.01                                                        & 0.00                                                        & 0.00                                                        & 0                                                           & 0.01                                                       \\\\\n",
       "\t 16592                                                       & Chou Ezaru wa Akai Hana: Koi wa Tsuki ni Shirube Kareru     & PSV                                                         & 2016                                                        & Action                                                      & dramatic create                                             & 0.00                                                        & 0.00                                                        & 0.01                                                        & 0                                                           & 0.01                                                       \\\\\n",
       "\t 16593                                                       & Eiyuu Densetsu: Sora no Kiseki Material Collection Portable & PSP                                                         & 2007                                                        & Role-Playing                                                & Falcom Corporation                                          & 0.00                                                        & 0.00                                                        & 0.01                                                        & 0                                                           & 0.01                                                       \\\\\n",
       "\t 16594                                                       & Myst IV: Revelation                                         & PC                                                          & 2004                                                        & Adventure                                                   & Ubisoft                                                     & 0.01                                                        & 0.00                                                        & 0.00                                                        & 0                                                           & 0.01                                                       \\\\\n",
       "\t 16595                                                       & Plushees                                                    & DS                                                          & 2008                                                        & Simulation                                                  & Destineer                                                   & 0.01                                                        & 0.00                                                        & 0.00                                                        & 0                                                           & 0.01                                                       \\\\\n",
       "\t 16596                                                       & Woody Woodpecker in Crazy Castle 5                          & GBA                                                         & 2002                                                        & Platform                                                    & Kemco                                                       & 0.01                                                        & 0.00                                                        & 0.00                                                        & 0                                                           & 0.01                                                       \\\\\n",
       "\t 16597                                                       & Men in Black II: Alien Escape                               & GC                                                          & 2003                                                        & Shooter                                                     & Infogrames                                                  & 0.01                                                        & 0.00                                                        & 0.00                                                        & 0                                                           & 0.01                                                       \\\\\n",
       "\t 16598                                                       & SCORE International Baja 1000: The Official Game            & PS2                                                         & 2008                                                        & Racing                                                      & Activision                                                  & 0.00                                                        & 0.00                                                        & 0.00                                                        & 0                                                           & 0.01                                                       \\\\\n",
       "\t 16599                                                       & Know How 2                                                  & DS                                                          & 2010                                                        & Puzzle                                                      & 7G//AMES                                                    & 0.00                                                        & 0.01                                                        & 0.00                                                        & 0                                                           & 0.01                                                       \\\\\n",
       "\t 16600                                                         & Spirits \\& Spells                                            & GBA                                                           & 2003                                                          & Platform                                                      & Wanadoo                                                       & 0.01                                                          & 0.00                                                          & 0.00                                                          & 0                                                             & 0.01                                                         \\\\\n",
       "\\end{tabular}\n"
      ],
      "text/markdown": [
       "\n",
       "| Rank | Name | Platform | Year | Genre | Publisher | NA_Sales | EU_Sales | JP_Sales | Other_Sales | Global_Sales |\n",
       "|---|---|---|---|---|---|---|---|---|---|---|\n",
       "|  1                                           | Wii Sports                                   | Wii                                          | 2006                                         | Sports                                       | Nintendo                                     | 41.49                                        | 29.02                                        |  3.77                                        |  8.46                                        | 82.74                                        |\n",
       "|  2                                           | Super Mario Bros.                            | NES                                          | 1985                                         | Platform                                     | Nintendo                                     | 29.08                                        |  3.58                                        |  6.81                                        |  0.77                                        | 40.24                                        |\n",
       "|  3                                           | Mario Kart Wii                               | Wii                                          | 2008                                         | Racing                                       | Nintendo                                     | 15.85                                        | 12.88                                        |  3.79                                        |  3.31                                        | 35.82                                        |\n",
       "|  4                                           | Wii Sports Resort                            | Wii                                          | 2009                                         | Sports                                       | Nintendo                                     | 15.75                                        | 11.01                                        |  3.28                                        |  2.96                                        | 33.00                                        |\n",
       "|  5                                           | Pokemon Red/Pokemon Blue                     | GB                                           | 1996                                         | Role-Playing                                 | Nintendo                                     | 11.27                                        |  8.89                                        | 10.22                                        |  1.00                                        | 31.37                                        |\n",
       "|  6                                           | Tetris                                       | GB                                           | 1989                                         | Puzzle                                       | Nintendo                                     | 23.20                                        |  2.26                                        |  4.22                                        |  0.58                                        | 30.26                                        |\n",
       "|  7                                           | New Super Mario Bros.                        | DS                                           | 2006                                         | Platform                                     | Nintendo                                     | 11.38                                        |  9.23                                        |  6.50                                        |  2.90                                        | 30.01                                        |\n",
       "|  8                                           | Wii Play                                     | Wii                                          | 2006                                         | Misc                                         | Nintendo                                     | 14.03                                        |  9.20                                        |  2.93                                        |  2.85                                        | 29.02                                        |\n",
       "|  9                                           | New Super Mario Bros. Wii                    | Wii                                          | 2009                                         | Platform                                     | Nintendo                                     | 14.59                                        |  7.06                                        |  4.70                                        |  2.26                                        | 28.62                                        |\n",
       "| 10                                           | Duck Hunt                                    | NES                                          | 1984                                         | Shooter                                      | Nintendo                                     | 26.93                                        |  0.63                                        |  0.28                                        |  0.47                                        | 28.31                                        |\n",
       "| 11                                           | Nintendogs                                   | DS                                           | 2005                                         | Simulation                                   | Nintendo                                     |  9.07                                        | 11.00                                        |  1.93                                        |  2.75                                        | 24.76                                        |\n",
       "| 12                                           | Mario Kart DS                                | DS                                           | 2005                                         | Racing                                       | Nintendo                                     |  9.81                                        |  7.57                                        |  4.13                                        |  1.92                                        | 23.42                                        |\n",
       "| 13                                           | Pokemon Gold/Pokemon Silver                  | GB                                           | 1999                                         | Role-Playing                                 | Nintendo                                     |  9.00                                        |  6.18                                        |  7.20                                        |  0.71                                        | 23.10                                        |\n",
       "| 14                                           | Wii Fit                                      | Wii                                          | 2007                                         | Sports                                       | Nintendo                                     |  8.94                                        |  8.03                                        |  3.60                                        |  2.15                                        | 22.72                                        |\n",
       "| 15                                           | Wii Fit Plus                                 | Wii                                          | 2009                                         | Sports                                       | Nintendo                                     |  9.09                                        |  8.59                                        |  2.53                                        |  1.79                                        | 22.00                                        |\n",
       "| 16                                           | Kinect Adventures!                           | X360                                         | 2010                                         | Misc                                         | Microsoft Game Studios                       | 14.97                                        |  4.94                                        |  0.24                                        |  1.67                                        | 21.82                                        |\n",
       "| 17                                           | Grand Theft Auto V                           | PS3                                          | 2013                                         | Action                                       | Take-Two Interactive                         |  7.01                                        |  9.27                                        |  0.97                                        |  4.14                                        | 21.40                                        |\n",
       "| 18                                           | Grand Theft Auto: San Andreas                | PS2                                          | 2004                                         | Action                                       | Take-Two Interactive                         |  9.43                                        |  0.40                                        |  0.41                                        | 10.57                                        | 20.81                                        |\n",
       "| 19                                           | Super Mario World                            | SNES                                         | 1990                                         | Platform                                     | Nintendo                                     | 12.78                                        |  3.75                                        |  3.54                                        |  0.55                                        | 20.61                                        |\n",
       "| 20                                           | Brain Age: Train Your Brain in Minutes a Day | DS                                           | 2005                                         | Misc                                         | Nintendo                                     |  4.75                                        |  9.26                                        |  4.16                                        |  2.05                                        | 20.22                                        |\n",
       "| 21                                           | Pokemon Diamond/Pokemon Pearl                | DS                                           | 2006                                         | Role-Playing                                 | Nintendo                                     |  6.42                                        |  4.52                                        |  6.04                                        |  1.37                                        | 18.36                                        |\n",
       "| 22                                           | Super Mario Land                             | GB                                           | 1989                                         | Platform                                     | Nintendo                                     | 10.83                                        |  2.71                                        |  4.18                                        |  0.42                                        | 18.14                                        |\n",
       "| 23                                           | Super Mario Bros. 3                          | NES                                          | 1988                                         | Platform                                     | Nintendo                                     |  9.54                                        |  3.44                                        |  3.84                                        |  0.46                                        | 17.28                                        |\n",
       "| 24                                           | Grand Theft Auto V                           | X360                                         | 2013                                         | Action                                       | Take-Two Interactive                         |  9.63                                        |  5.31                                        |  0.06                                        |  1.38                                        | 16.38                                        |\n",
       "| 25                                           | Grand Theft Auto: Vice City                  | PS2                                          | 2002                                         | Action                                       | Take-Two Interactive                         |  8.41                                        |  5.49                                        |  0.47                                        |  1.78                                        | 16.15                                        |\n",
       "| 26                                           | Pokemon Ruby/Pokemon Sapphire                | GBA                                          | 2002                                         | Role-Playing                                 | Nintendo                                     |  6.06                                        |  3.90                                        |  5.38                                        |  0.50                                        | 15.85                                        |\n",
       "| 27                                           | Pokemon Black/Pokemon White                  | DS                                           | 2010                                         | Role-Playing                                 | Nintendo                                     |  5.57                                        |  3.28                                        |  5.65                                        |  0.82                                        | 15.32                                        |\n",
       "| 28                                           | Brain Age 2: More Training in Minutes a Day  | DS                                           | 2005                                         | Puzzle                                       | Nintendo                                     |  3.44                                        |  5.36                                        |  5.32                                        |  1.18                                        | 15.30                                        |\n",
       "| 29                                           | Gran Turismo 3: A-Spec                       | PS2                                          | 2001                                         | Racing                                       | Sony Computer Entertainment                  |  6.85                                        |  5.09                                        |  1.87                                        |  1.16                                        | 14.98                                        |\n",
       "| 30                                           | Call of Duty: Modern Warfare 3               | X360                                         | 2011                                         | Shooter                                      | Activision                                   |  9.03                                        |  4.28                                        |  0.13                                        |  1.32                                        | 14.76                                        |\n",
       "| ... | ... | ... | ... | ... | ... | ... | ... | ... | ... | ... |\n",
       "| 16571                                                       | XI Coliseum                                                 | PSP                                                         | 2006                                                        | Puzzle                                                      | Sony Computer Entertainment                                 | 0.00                                                        | 0.00                                                        | 0.01                                                        | 0                                                           | 0.01                                                        |\n",
       "| 16572                                                       | Resident Evil 4 HD                                          | XOne                                                        | 2016                                                        | Shooter                                                     | Capcom                                                      | 0.01                                                        | 0.00                                                        | 0.00                                                        | 0                                                           | 0.01                                                        |\n",
       "| 16573                                                       | Farming 2017 - The Simulation                               | PS4                                                         | 2016                                                        | Simulation                                                  | UIG Entertainment                                           | 0.00                                                        | 0.01                                                        | 0.00                                                        | 0                                                           | 0.01                                                        |\n",
       "| 16574                                                       | Grisaia no Kajitsu: La Fruit de la Grisaia                  | PSP                                                         | 2013                                                        | Adventure                                                   | Prototype                                                   | 0.00                                                        | 0.00                                                        | 0.01                                                        | 0                                                           | 0.01                                                        |\n",
       "| 16575                                                       | Scarlett: Nichijou no Kyoukaisen                            | PS2                                                         | 2008                                                        | Adventure                                                   | Kadokawa Shoten                                             | 0.00                                                        | 0.00                                                        | 0.01                                                        | 0                                                           | 0.01                                                        |\n",
       "| 16576                                                       | Mini Desktop Racing                                         | Wii                                                         | 2007                                                        | Racing                                                      | Popcorn Arcade                                              | 0.01                                                        | 0.00                                                        | 0.00                                                        | 0                                                           | 0.01                                                        |\n",
       "| 16577                                                       | Yattaman Wii: BikkuriDokkiri Machine de Mou Race da Koron   | Wii                                                         | 2008                                                        | Racing                                                      | Takara Tomy                                                 | 0.00                                                        | 0.00                                                        | 0.01                                                        | 0                                                           | 0.01                                                        |\n",
       "| 16578                                                       | Neo Angelique Special                                       | PSP                                                         | 2008                                                        | Adventure                                                   | Tecmo Koei                                                  | 0.00                                                        | 0.00                                                        | 0.01                                                        | 0                                                           | 0.01                                                        |\n",
       "| 16579                                                       | Rugby Challenge 3                                           | XOne                                                        | 2016                                                        | Sports                                                      | Alternative Software                                        | 0.00                                                        | 0.01                                                        | 0.00                                                        | 0                                                           | 0.01                                                        |\n",
       "| 16580                                                       | Damnation                                                   | PC                                                          | 2009                                                        | Shooter                                                     | Codemasters                                                 | 0.00                                                        | 0.01                                                        | 0.00                                                        | 0                                                           | 0.01                                                        |\n",
       "| 16581                                                       | Outdoors Unleashed: Africa 3D                               | 3DS                                                         | 2011                                                        | Sports                                                      | Mastiff                                                     | 0.01                                                        | 0.00                                                        | 0.00                                                        | 0                                                           | 0.01                                                        |\n",
       "| 16582                                                       | PGA European Tour                                           | N64                                                         | 2000                                                        | Sports                                                      | Infogrames                                                  | 0.01                                                        | 0.00                                                        | 0.00                                                        | 0                                                           | 0.01                                                        |\n",
       "| 16583                                                       | Real Rode                                                   | PS2                                                         | 2008                                                        | Adventure                                                   | Kadokawa Shoten                                             | 0.00                                                        | 0.00                                                        | 0.01                                                        | 0                                                           | 0.01                                                        |\n",
       "| 16584                                                       | Fit & Fun                                                   | Wii                                                         | 2011                                                        | Sports                                                      | Unknown                                                     | 0.00                                                        | 0.01                                                        | 0.00                                                        | 0                                                           | 0.01                                                        |\n",
       "| 16585                                                       | Planet Monsters                                             | GBA                                                         | 2001                                                        | Action                                                      | Titus                                                       | 0.01                                                        | 0.00                                                        | 0.00                                                        | 0                                                           | 0.01                                                        |\n",
       "| 16586                                                       | Carmageddon 64                                              | N64                                                         | 1999                                                        | Action                                                      | Virgin Interactive                                          | 0.01                                                        | 0.00                                                        | 0.00                                                        | 0                                                           | 0.01                                                        |\n",
       "| 16587                                                       | Bust-A-Move 3000                                            | GC                                                          | 2003                                                        | Puzzle                                                      | Ubisoft                                                     | 0.01                                                        | 0.00                                                        | 0.00                                                        | 0                                                           | 0.01                                                        |\n",
       "| 16588                                                       | Breach                                                      | PC                                                          | 2011                                                        | Shooter                                                     | Destineer                                                   | 0.01                                                        | 0.00                                                        | 0.00                                                        | 0                                                           | 0.01                                                        |\n",
       "| 16589                                                       | Secret Files 2: Puritas Cordis                              | DS                                                          | 2009                                                        | Adventure                                                   | Deep Silver                                                 | 0.00                                                        | 0.01                                                        | 0.00                                                        | 0                                                           | 0.01                                                        |\n",
       "| 16590                                                       | Mezase!! Tsuri Master DS                                    | DS                                                          | 2009                                                        | Sports                                                      | Hudson Soft                                                 | 0.00                                                        | 0.00                                                        | 0.01                                                        | 0                                                           | 0.01                                                        |\n",
       "| 16591                                                       | Mega Brain Boost                                            | DS                                                          | 2008                                                        | Puzzle                                                      | Majesco Entertainment                                       | 0.01                                                        | 0.00                                                        | 0.00                                                        | 0                                                           | 0.01                                                        |\n",
       "| 16592                                                       | Chou Ezaru wa Akai Hana: Koi wa Tsuki ni Shirube Kareru     | PSV                                                         | 2016                                                        | Action                                                      | dramatic create                                             | 0.00                                                        | 0.00                                                        | 0.01                                                        | 0                                                           | 0.01                                                        |\n",
       "| 16593                                                       | Eiyuu Densetsu: Sora no Kiseki Material Collection Portable | PSP                                                         | 2007                                                        | Role-Playing                                                | Falcom Corporation                                          | 0.00                                                        | 0.00                                                        | 0.01                                                        | 0                                                           | 0.01                                                        |\n",
       "| 16594                                                       | Myst IV: Revelation                                         | PC                                                          | 2004                                                        | Adventure                                                   | Ubisoft                                                     | 0.01                                                        | 0.00                                                        | 0.00                                                        | 0                                                           | 0.01                                                        |\n",
       "| 16595                                                       | Plushees                                                    | DS                                                          | 2008                                                        | Simulation                                                  | Destineer                                                   | 0.01                                                        | 0.00                                                        | 0.00                                                        | 0                                                           | 0.01                                                        |\n",
       "| 16596                                                       | Woody Woodpecker in Crazy Castle 5                          | GBA                                                         | 2002                                                        | Platform                                                    | Kemco                                                       | 0.01                                                        | 0.00                                                        | 0.00                                                        | 0                                                           | 0.01                                                        |\n",
       "| 16597                                                       | Men in Black II: Alien Escape                               | GC                                                          | 2003                                                        | Shooter                                                     | Infogrames                                                  | 0.01                                                        | 0.00                                                        | 0.00                                                        | 0                                                           | 0.01                                                        |\n",
       "| 16598                                                       | SCORE International Baja 1000: The Official Game            | PS2                                                         | 2008                                                        | Racing                                                      | Activision                                                  | 0.00                                                        | 0.00                                                        | 0.00                                                        | 0                                                           | 0.01                                                        |\n",
       "| 16599                                                       | Know How 2                                                  | DS                                                          | 2010                                                        | Puzzle                                                      | 7G//AMES                                                    | 0.00                                                        | 0.01                                                        | 0.00                                                        | 0                                                           | 0.01                                                        |\n",
       "| 16600                                                       | Spirits & Spells                                            | GBA                                                         | 2003                                                        | Platform                                                    | Wanadoo                                                     | 0.01                                                        | 0.00                                                        | 0.00                                                        | 0                                                           | 0.01                                                        |\n",
       "\n"
      ],
      "text/plain": [
       "      Rank  Name                                                       \n",
       "1      1    Wii Sports                                                 \n",
       "2      2    Super Mario Bros.                                          \n",
       "3      3    Mario Kart Wii                                             \n",
       "4      4    Wii Sports Resort                                          \n",
       "5      5    Pokemon Red/Pokemon Blue                                   \n",
       "6      6    Tetris                                                     \n",
       "7      7    New Super Mario Bros.                                      \n",
       "8      8    Wii Play                                                   \n",
       "9      9    New Super Mario Bros. Wii                                  \n",
       "10    10    Duck Hunt                                                  \n",
       "11    11    Nintendogs                                                 \n",
       "12    12    Mario Kart DS                                              \n",
       "13    13    Pokemon Gold/Pokemon Silver                                \n",
       "14    14    Wii Fit                                                    \n",
       "15    15    Wii Fit Plus                                               \n",
       "16    16    Kinect Adventures!                                         \n",
       "17    17    Grand Theft Auto V                                         \n",
       "18    18    Grand Theft Auto: San Andreas                              \n",
       "19    19    Super Mario World                                          \n",
       "20    20    Brain Age: Train Your Brain in Minutes a Day               \n",
       "21    21    Pokemon Diamond/Pokemon Pearl                              \n",
       "22    22    Super Mario Land                                           \n",
       "23    23    Super Mario Bros. 3                                        \n",
       "24    24    Grand Theft Auto V                                         \n",
       "25    25    Grand Theft Auto: Vice City                                \n",
       "26    26    Pokemon Ruby/Pokemon Sapphire                              \n",
       "27    27    Pokemon Black/Pokemon White                                \n",
       "28    28    Brain Age 2: More Training in Minutes a Day                \n",
       "29    29    Gran Turismo 3: A-Spec                                     \n",
       "30    30    Call of Duty: Modern Warfare 3                             \n",
       "...   ...   ...                                                        \n",
       "16569 16571 XI Coliseum                                                \n",
       "16570 16572 Resident Evil 4 HD                                         \n",
       "16571 16573 Farming 2017 - The Simulation                              \n",
       "16572 16574 Grisaia no Kajitsu: La Fruit de la Grisaia                 \n",
       "16573 16575 Scarlett: Nichijou no Kyoukaisen                           \n",
       "16574 16576 Mini Desktop Racing                                        \n",
       "16575 16577 Yattaman Wii: BikkuriDokkiri Machine de Mou Race da Koron  \n",
       "16576 16578 Neo Angelique Special                                      \n",
       "16577 16579 Rugby Challenge 3                                          \n",
       "16578 16580 Damnation                                                  \n",
       "16579 16581 Outdoors Unleashed: Africa 3D                              \n",
       "16580 16582 PGA European Tour                                          \n",
       "16581 16583 Real Rode                                                  \n",
       "16582 16584 Fit & Fun                                                  \n",
       "16583 16585 Planet Monsters                                            \n",
       "16584 16586 Carmageddon 64                                             \n",
       "16585 16587 Bust-A-Move 3000                                           \n",
       "16586 16588 Breach                                                     \n",
       "16587 16589 Secret Files 2: Puritas Cordis                             \n",
       "16588 16590 Mezase!! Tsuri Master DS                                   \n",
       "16589 16591 Mega Brain Boost                                           \n",
       "16590 16592 Chou Ezaru wa Akai Hana: Koi wa Tsuki ni Shirube Kareru    \n",
       "16591 16593 Eiyuu Densetsu: Sora no Kiseki Material Collection Portable\n",
       "16592 16594 Myst IV: Revelation                                        \n",
       "16593 16595 Plushees                                                   \n",
       "16594 16596 Woody Woodpecker in Crazy Castle 5                         \n",
       "16595 16597 Men in Black II: Alien Escape                              \n",
       "16596 16598 SCORE International Baja 1000: The Official Game           \n",
       "16597 16599 Know How 2                                                 \n",
       "16598 16600 Spirits & Spells                                           \n",
       "      Platform Year Genre        Publisher                   NA_Sales EU_Sales\n",
       "1     Wii      2006 Sports       Nintendo                    41.49    29.02   \n",
       "2     NES      1985 Platform     Nintendo                    29.08     3.58   \n",
       "3     Wii      2008 Racing       Nintendo                    15.85    12.88   \n",
       "4     Wii      2009 Sports       Nintendo                    15.75    11.01   \n",
       "5     GB       1996 Role-Playing Nintendo                    11.27     8.89   \n",
       "6     GB       1989 Puzzle       Nintendo                    23.20     2.26   \n",
       "7     DS       2006 Platform     Nintendo                    11.38     9.23   \n",
       "8     Wii      2006 Misc         Nintendo                    14.03     9.20   \n",
       "9     Wii      2009 Platform     Nintendo                    14.59     7.06   \n",
       "10    NES      1984 Shooter      Nintendo                    26.93     0.63   \n",
       "11    DS       2005 Simulation   Nintendo                     9.07    11.00   \n",
       "12    DS       2005 Racing       Nintendo                     9.81     7.57   \n",
       "13    GB       1999 Role-Playing Nintendo                     9.00     6.18   \n",
       "14    Wii      2007 Sports       Nintendo                     8.94     8.03   \n",
       "15    Wii      2009 Sports       Nintendo                     9.09     8.59   \n",
       "16    X360     2010 Misc         Microsoft Game Studios      14.97     4.94   \n",
       "17    PS3      2013 Action       Take-Two Interactive         7.01     9.27   \n",
       "18    PS2      2004 Action       Take-Two Interactive         9.43     0.40   \n",
       "19    SNES     1990 Platform     Nintendo                    12.78     3.75   \n",
       "20    DS       2005 Misc         Nintendo                     4.75     9.26   \n",
       "21    DS       2006 Role-Playing Nintendo                     6.42     4.52   \n",
       "22    GB       1989 Platform     Nintendo                    10.83     2.71   \n",
       "23    NES      1988 Platform     Nintendo                     9.54     3.44   \n",
       "24    X360     2013 Action       Take-Two Interactive         9.63     5.31   \n",
       "25    PS2      2002 Action       Take-Two Interactive         8.41     5.49   \n",
       "26    GBA      2002 Role-Playing Nintendo                     6.06     3.90   \n",
       "27    DS       2010 Role-Playing Nintendo                     5.57     3.28   \n",
       "28    DS       2005 Puzzle       Nintendo                     3.44     5.36   \n",
       "29    PS2      2001 Racing       Sony Computer Entertainment  6.85     5.09   \n",
       "30    X360     2011 Shooter      Activision                   9.03     4.28   \n",
       "...   ...      ...  ...          ...                         ...      ...     \n",
       "16569 PSP      2006 Puzzle       Sony Computer Entertainment 0.00     0.00    \n",
       "16570 XOne     2016 Shooter      Capcom                      0.01     0.00    \n",
       "16571 PS4      2016 Simulation   UIG Entertainment           0.00     0.01    \n",
       "16572 PSP      2013 Adventure    Prototype                   0.00     0.00    \n",
       "16573 PS2      2008 Adventure    Kadokawa Shoten             0.00     0.00    \n",
       "16574 Wii      2007 Racing       Popcorn Arcade              0.01     0.00    \n",
       "16575 Wii      2008 Racing       Takara Tomy                 0.00     0.00    \n",
       "16576 PSP      2008 Adventure    Tecmo Koei                  0.00     0.00    \n",
       "16577 XOne     2016 Sports       Alternative Software        0.00     0.01    \n",
       "16578 PC       2009 Shooter      Codemasters                 0.00     0.01    \n",
       "16579 3DS      2011 Sports       Mastiff                     0.01     0.00    \n",
       "16580 N64      2000 Sports       Infogrames                  0.01     0.00    \n",
       "16581 PS2      2008 Adventure    Kadokawa Shoten             0.00     0.00    \n",
       "16582 Wii      2011 Sports       Unknown                     0.00     0.01    \n",
       "16583 GBA      2001 Action       Titus                       0.01     0.00    \n",
       "16584 N64      1999 Action       Virgin Interactive          0.01     0.00    \n",
       "16585 GC       2003 Puzzle       Ubisoft                     0.01     0.00    \n",
       "16586 PC       2011 Shooter      Destineer                   0.01     0.00    \n",
       "16587 DS       2009 Adventure    Deep Silver                 0.00     0.01    \n",
       "16588 DS       2009 Sports       Hudson Soft                 0.00     0.00    \n",
       "16589 DS       2008 Puzzle       Majesco Entertainment       0.01     0.00    \n",
       "16590 PSV      2016 Action       dramatic create             0.00     0.00    \n",
       "16591 PSP      2007 Role-Playing Falcom Corporation          0.00     0.00    \n",
       "16592 PC       2004 Adventure    Ubisoft                     0.01     0.00    \n",
       "16593 DS       2008 Simulation   Destineer                   0.01     0.00    \n",
       "16594 GBA      2002 Platform     Kemco                       0.01     0.00    \n",
       "16595 GC       2003 Shooter      Infogrames                  0.01     0.00    \n",
       "16596 PS2      2008 Racing       Activision                  0.00     0.00    \n",
       "16597 DS       2010 Puzzle       7G//AMES                    0.00     0.01    \n",
       "16598 GBA      2003 Platform     Wanadoo                     0.01     0.00    \n",
       "      JP_Sales Other_Sales Global_Sales\n",
       "1      3.77     8.46       82.74       \n",
       "2      6.81     0.77       40.24       \n",
       "3      3.79     3.31       35.82       \n",
       "4      3.28     2.96       33.00       \n",
       "5     10.22     1.00       31.37       \n",
       "6      4.22     0.58       30.26       \n",
       "7      6.50     2.90       30.01       \n",
       "8      2.93     2.85       29.02       \n",
       "9      4.70     2.26       28.62       \n",
       "10     0.28     0.47       28.31       \n",
       "11     1.93     2.75       24.76       \n",
       "12     4.13     1.92       23.42       \n",
       "13     7.20     0.71       23.10       \n",
       "14     3.60     2.15       22.72       \n",
       "15     2.53     1.79       22.00       \n",
       "16     0.24     1.67       21.82       \n",
       "17     0.97     4.14       21.40       \n",
       "18     0.41    10.57       20.81       \n",
       "19     3.54     0.55       20.61       \n",
       "20     4.16     2.05       20.22       \n",
       "21     6.04     1.37       18.36       \n",
       "22     4.18     0.42       18.14       \n",
       "23     3.84     0.46       17.28       \n",
       "24     0.06     1.38       16.38       \n",
       "25     0.47     1.78       16.15       \n",
       "26     5.38     0.50       15.85       \n",
       "27     5.65     0.82       15.32       \n",
       "28     5.32     1.18       15.30       \n",
       "29     1.87     1.16       14.98       \n",
       "30     0.13     1.32       14.76       \n",
       "...   ...      ...         ...         \n",
       "16569 0.01     0           0.01        \n",
       "16570 0.00     0           0.01        \n",
       "16571 0.00     0           0.01        \n",
       "16572 0.01     0           0.01        \n",
       "16573 0.01     0           0.01        \n",
       "16574 0.00     0           0.01        \n",
       "16575 0.01     0           0.01        \n",
       "16576 0.01     0           0.01        \n",
       "16577 0.00     0           0.01        \n",
       "16578 0.00     0           0.01        \n",
       "16579 0.00     0           0.01        \n",
       "16580 0.00     0           0.01        \n",
       "16581 0.01     0           0.01        \n",
       "16582 0.00     0           0.01        \n",
       "16583 0.00     0           0.01        \n",
       "16584 0.00     0           0.01        \n",
       "16585 0.00     0           0.01        \n",
       "16586 0.00     0           0.01        \n",
       "16587 0.00     0           0.01        \n",
       "16588 0.01     0           0.01        \n",
       "16589 0.00     0           0.01        \n",
       "16590 0.01     0           0.01        \n",
       "16591 0.01     0           0.01        \n",
       "16592 0.00     0           0.01        \n",
       "16593 0.00     0           0.01        \n",
       "16594 0.00     0           0.01        \n",
       "16595 0.00     0           0.01        \n",
       "16596 0.00     0           0.01        \n",
       "16597 0.00     0           0.01        \n",
       "16598 0.00     0           0.01        "
      ]
     },
     "metadata": {},
     "output_type": "display_data"
    }
   ],
   "source": [
    "file"
   ]
  },
  {
   "cell_type": "markdown",
   "metadata": {},
   "source": [
    "<big> 1.Podstawowe wykresy i analiza </big>"
   ]
  },
  {
   "cell_type": "markdown",
   "metadata": {},
   "source": [
    "Porównanie sprzedaży"
   ]
  },
  {
   "cell_type": "code",
   "execution_count": 38,
   "metadata": {},
   "outputs": [
    {
     "data": {
      "image/png": "[encoded data removed]",
      "text/plain": [
       "Plot with title \"Sprzedaż gier w Japonii\""
      ]
     },
     "metadata": {},
     "output_type": "display_data"
    }
   ],
   "source": [
    "par(mfrow=c(2,2))\n",
    "hist(file$NA_Sales,main=\"Sprzedaż gier w Ameryce\",xlab=\"Ilość sprzedanych kopii w milionach\",xlim=c(0,5),ylim=c(0,15000),ylab=\"Ilość wystąpień\",breaks=sqrt(nrow(file)))\n",
    "hist(file$EU_Sales,main=\"Sprzedaż gier w Europie\",xlab=\"Ilość sprzedanych kopii w milionach\",xlim=c(0,5),ylim=c(0,15000),ylab=\"Ilość wystąpień\",breaks=sqrt(nrow(file)))\n",
    "hist(file$JP_Sales,main=\"Sprzedaż gier w Japonii\",xlab=\"Ilość sprzedanych kopii w milionach\",xlim=c(0,5),ylim=c(0,15000),ylab=\"Ilość wystąpień\",breaks=sqrt(nrow(file)))"
   ]
  },
  {
   "cell_type": "code",
   "execution_count": 50,
   "metadata": {},
   "outputs": [
    {
     "data": {
      "text/html": [
       "0.264667429810821"
      ],
      "text/latex": [
       "0.264667429810821"
      ],
      "text/markdown": [
       "0.264667429810821"
      ],
      "text/plain": [
       "[1] 0.2646674"
      ]
     },
     "metadata": {},
     "output_type": "display_data"
    },
    {
     "data": {
      "text/html": [
       "0.08"
      ],
      "text/latex": [
       "0.08"
      ],
      "text/markdown": [
       "0.08"
      ],
      "text/plain": [
       "[1] 0.08"
      ]
     },
     "metadata": {},
     "output_type": "display_data"
    },
    {
     "data": {
      "text/html": [
       "651.895100139214"
      ],
      "text/latex": [
       "651.895100139214"
      ],
      "text/markdown": [
       "651.895100139214"
      ],
      "text/plain": [
       "[1] 651.8951"
      ]
     },
     "metadata": {},
     "output_type": "display_data"
    },
    {
     "data": {
      "text/html": [
       "<dl class=dl-horizontal>\n",
       "\t<dt>0%</dt>\n",
       "\t\t<dd>0</dd>\n",
       "\t<dt>25%</dt>\n",
       "\t\t<dd>0</dd>\n",
       "\t<dt>50%</dt>\n",
       "\t\t<dd>0.08</dd>\n",
       "\t<dt>75%</dt>\n",
       "\t\t<dd>0.24</dd>\n",
       "\t<dt>100%</dt>\n",
       "\t\t<dd>41.49</dd>\n",
       "</dl>\n"
      ],
      "text/latex": [
       "\\begin{description*}\n",
       "\\item[0\\textbackslash{}\\%] 0\n",
       "\\item[25\\textbackslash{}\\%] 0\n",
       "\\item[50\\textbackslash{}\\%] 0.08\n",
       "\\item[75\\textbackslash{}\\%] 0.24\n",
       "\\item[100\\textbackslash{}\\%] 41.49\n",
       "\\end{description*}\n"
      ],
      "text/markdown": [
       "0%\n",
       ":   025%\n",
       ":   050%\n",
       ":   0.0875%\n",
       ":   0.24100%\n",
       ":   41.49\n",
       "\n"
      ],
      "text/plain": [
       "   0%   25%   50%   75%  100% \n",
       " 0.00  0.00  0.08  0.24 41.49 "
      ]
     },
     "metadata": {},
     "output_type": "display_data"
    },
    {
     "data": {
      "text/html": [
       "0.146652006265815"
      ],
      "text/latex": [
       "0.146652006265815"
      ],
      "text/markdown": [
       "0.146652006265815"
      ],
      "text/plain": [
       "[1] 0.146652"
      ]
     },
     "metadata": {},
     "output_type": "display_data"
    },
    {
     "data": {
      "text/html": [
       "0.02"
      ],
      "text/latex": [
       "0.02"
      ],
      "text/markdown": [
       "0.02"
      ],
      "text/plain": [
       "[1] 0.02"
      ]
     },
     "metadata": {},
     "output_type": "display_data"
    },
    {
     "data": {
      "text/html": [
       "758.753990518374"
      ],
      "text/latex": [
       "758.753990518374"
      ],
      "text/markdown": [
       "758.753990518374"
      ],
      "text/plain": [
       "[1] 758.754"
      ]
     },
     "metadata": {},
     "output_type": "display_data"
    },
    {
     "data": {
      "text/html": [
       "<dl class=dl-horizontal>\n",
       "\t<dt>0%</dt>\n",
       "\t\t<dd>0</dd>\n",
       "\t<dt>25%</dt>\n",
       "\t\t<dd>0</dd>\n",
       "\t<dt>50%</dt>\n",
       "\t\t<dd>0.02</dd>\n",
       "\t<dt>75%</dt>\n",
       "\t\t<dd>0.11</dd>\n",
       "\t<dt>100%</dt>\n",
       "\t\t<dd>29.02</dd>\n",
       "</dl>\n"
      ],
      "text/latex": [
       "\\begin{description*}\n",
       "\\item[0\\textbackslash{}\\%] 0\n",
       "\\item[25\\textbackslash{}\\%] 0\n",
       "\\item[50\\textbackslash{}\\%] 0.02\n",
       "\\item[75\\textbackslash{}\\%] 0.11\n",
       "\\item[100\\textbackslash{}\\%] 29.02\n",
       "\\end{description*}\n"
      ],
      "text/markdown": [
       "0%\n",
       ":   025%\n",
       ":   050%\n",
       ":   0.0275%\n",
       ":   0.11100%\n",
       ":   29.02\n",
       "\n"
      ],
      "text/plain": [
       "   0%   25%   50%   75%  100% \n",
       " 0.00  0.00  0.02  0.11 29.02 "
      ]
     },
     "metadata": {},
     "output_type": "display_data"
    },
    {
     "data": {
      "text/html": [
       "0.077781660441017"
      ],
      "text/latex": [
       "0.077781660441017"
      ],
      "text/markdown": [
       "0.077781660441017"
      ],
      "text/plain": [
       "[1] 0.07778166"
      ]
     },
     "metadata": {},
     "output_type": "display_data"
    },
    {
     "data": {
      "text/html": [
       "0"
      ],
      "text/latex": [
       "0"
      ],
      "text/markdown": [
       "0"
      ],
      "text/plain": [
       "[1] 0"
      ]
     },
     "metadata": {},
     "output_type": "display_data"
    },
    {
     "data": {
      "text/html": [
       "197.163246413516"
      ],
      "text/latex": [
       "197.163246413516"
      ],
      "text/markdown": [
       "197.163246413516"
      ],
      "text/plain": [
       "[1] 197.1632"
      ]
     },
     "metadata": {},
     "output_type": "display_data"
    },
    {
     "data": {
      "text/html": [
       "<dl class=dl-horizontal>\n",
       "\t<dt>0%</dt>\n",
       "\t\t<dd>0</dd>\n",
       "\t<dt>25%</dt>\n",
       "\t\t<dd>0</dd>\n",
       "\t<dt>50%</dt>\n",
       "\t\t<dd>0</dd>\n",
       "\t<dt>75%</dt>\n",
       "\t\t<dd>0.04</dd>\n",
       "\t<dt>100%</dt>\n",
       "\t\t<dd>10.22</dd>\n",
       "</dl>\n"
      ],
      "text/latex": [
       "\\begin{description*}\n",
       "\\item[0\\textbackslash{}\\%] 0\n",
       "\\item[25\\textbackslash{}\\%] 0\n",
       "\\item[50\\textbackslash{}\\%] 0\n",
       "\\item[75\\textbackslash{}\\%] 0.04\n",
       "\\item[100\\textbackslash{}\\%] 10.22\n",
       "\\end{description*}\n"
      ],
      "text/markdown": [
       "0%\n",
       ":   025%\n",
       ":   050%\n",
       ":   075%\n",
       ":   0.04100%\n",
       ":   10.22\n",
       "\n"
      ],
      "text/plain": [
       "   0%   25%   50%   75%  100% \n",
       " 0.00  0.00  0.00  0.04 10.22 "
      ]
     },
     "metadata": {},
     "output_type": "display_data"
    }
   ],
   "source": [
    "mean(file$NA_Sales)\n",
    "median(file$NA_Sales)\n",
    "sum((file$NA_Sales-mean(file$NA_Sales))^4)/((length(file$NA_Sales)-1)*sd(file$NA_Sales)^4) #kurtoza\n",
    "quantile(file$NA_Sales)\n",
    "mean(file$EU_Sales)\n",
    "median(file$EU_Sales)\n",
    "sum((file$EU_Sales-mean(file$EU_Sales))^4)/((length(file$EU_Sales)-1)*sd(file$EU_Sales)^4)\n",
    "quantile(file$EU_Sales)\n",
    "mean(file$JP_Sales)\n",
    "median(file$JP_Sales)\n",
    "sum((file$JP_Sales-mean(file$JP_Sales))^4)/((length(file$JP_Sales)-1)*sd(file$JP_Sales)^4)\n",
    "quantile(file$JP_Sales)"
   ]
  },
  {
   "cell_type": "markdown",
   "metadata": {},
   "source": [
    "Na podstawie powyższych danych możemy zauważyć, że najwyższa średnia liczba sprzedanych kopii występuje w Ameryce. Dodatkowo histogramy pokazują, że bardzo mały procent gier odnosi ogromny sukces wielomilionowej sprzedaży, natomiast bardzo duża część nigdy do tej wartości się nawet nie zbliża. Na podstawie średnich i median możemy wywnioskować, że każda z danych dotyczących sprzedaży jest ostro lewoskośna, a kurtoza jest bardzo wysoka z powodu dużej różnicy w sprzedaży. "
   ]
  },
  {
   "cell_type": "code",
   "execution_count": 94,
   "metadata": {},
   "outputs": [
    {
     "data": {
      "text/plain": [
       "\n",
       "      Action    Adventure     Fighting         Misc     Platform       Puzzle \n",
       "        3316         1286          848         1739          886          582 \n",
       "      Racing Role-Playing      Shooter   Simulation       Sports     Strategy \n",
       "        1249         1488         1310          867         2346          681 "
      ]
     },
     "metadata": {},
     "output_type": "display_data"
    },
    {
     "data": {
      "image/png": "[encoded data removed]",
      "text/plain": [
       "Plot with title \"Ilość gier z wszystkich gatunków\""
      ]
     },
     "metadata": {},
     "output_type": "display_data"
    }
   ],
   "source": [
    "barplot(table(file$Genre),main =\"Ilość gier z wszystkich gatunków\")\n",
    "table(file$Genre)"
   ]
  },
  {
   "cell_type": "markdown",
   "metadata": {},
   "source": [
    "Zdecydowanie najwięcej produkowanych jest gier akcji oraz sportowych. Najrzadziej pojawiającym się gatunkiem są łamigłówki oraz bijatyki."
   ]
  },
  {
   "cell_type": "markdown",
   "metadata": {},
   "source": [
    "Najbardziej dominujące firmy na rynku"
   ]
  },
  {
   "cell_type": "code",
   "execution_count": 85,
   "metadata": {},
   "outputs": [
    {
     "data": {
      "image/png": "[encoded data removed]",
      "text/plain": [
       "Plot with title \"Ilośc gier na wydawnictwo\""
      ]
     },
     "metadata": {},
     "output_type": "display_data"
    }
   ],
   "source": [
    "data <- table(file$Publisher)\n",
    "hist(data,main=\"Ilośc gier na wydawnictwo\",xlab=\"Ilość wydanych gier\",ylab=\"Ilość firm\",breaks=sqrt(nrow(file)))"
   ]
  },
  {
   "cell_type": "markdown",
   "metadata": {},
   "source": [
    "Możemy zaobserwować, że rynek gier można podzielić na dwie skrajne części: gry wydawane przez największe wydawnictwa zarabiające nieporównywalnie dużo pieniędzy (gdzie gier tych jest stosunkowo bardzo niewiele) oraz ogromna ilość gier nieodnosząca większego sukcesu, będącymi wydawane przez małe wydawnictwa."
   ]
  },
  {
   "cell_type": "markdown",
   "metadata": {},
   "source": [
    "<big> <big>  2. Test T </big>"
   ]
  },
  {
   "cell_type": "markdown",
   "metadata": {},
   "source": [
    "Test T został wybrany, ponieważ łatwo mogliśmy uzyskać informację o średnich jak i odchyleniu. Dodatkowo, rozkład wartości sprzedaży jest zbliżony do rozkładu normalnego, co jest niezbędne przy tym teście."
   ]
  },
  {
   "cell_type": "markdown",
   "metadata": {},
   "source": [
    "Na podstawie sprzedaży gier w poprzednich i następnych latach określić, czy ilość sprzedanych gier wydanych w 2016 roku odstaje od pozostałych lat, czy wynika ono z pobranej próby."
   ]
  },
  {
   "cell_type": "code",
   "execution_count": 108,
   "metadata": {},
   "outputs": [
    {
     "data": {
      "text/html": [
       "0.6256"
      ],
      "text/latex": [
       "0.6256"
      ],
      "text/markdown": [
       "0.6256"
      ],
      "text/plain": [
       "[1] 0.6256"
      ]
     },
     "metadata": {},
     "output_type": "display_data"
    },
    {
     "data": {
      "text/html": [
       "0.6051"
      ],
      "text/latex": [
       "0.6051"
      ],
      "text/markdown": [
       "0.6051"
      ],
      "text/plain": [
       "[1] 0.6051"
      ]
     },
     "metadata": {},
     "output_type": "display_data"
    }
   ],
   "source": [
    "index <- sample(1:nrow(file),100) #próbka zmienia się za każdym razem!\n",
    "all <- mean(file$Global_Sales[index]) #srednia próbki z całości\n",
    "all\n",
    "odchylenie <- sd(file$Global_Sales) #odchylenie standardowe\n",
    "dane <- head(file[file[,\"Year\"] == 2016,],100) #wybranie próbki 100 gier z 2016 roku\n",
    "oneYear <- mean(dane$Global_Sales) #średnia wybranej próbki\n",
    "oneYear"
   ]
  },
  {
   "cell_type": "markdown",
   "metadata": {},
   "source": [
    "<big> 1. Badana cecha jest zbliżona do rozkładu normalnego <br>\n",
    "2.H0: u = 0.6051 <br>\n",
    "H1: u != 0.6051 <br>\n",
    "3. Poziom istotności a = 0.05 <br> \n",
    "Na jego podstawie wyznaczamy zbiór krytyczny, odczytując go z tabeli rozkładu T-studenta: <br>\n",
    "Zbiór krytyczny: (-inf,-1.98) U (1.98,inf) <br>\n",
    "4. Statystyka testowa: </big>"
   ]
  },
  {
   "cell_type": "code",
   "execution_count": 110,
   "metadata": {},
   "outputs": [
    {
     "data": {
      "text/html": [
       "0.131830429094426"
      ],
      "text/latex": [
       "0.131830429094426"
      ],
      "text/markdown": [
       "0.131830429094426"
      ],
      "text/plain": [
       "[1] 0.1318304"
      ]
     },
     "metadata": {},
     "output_type": "display_data"
    }
   ],
   "source": [
    "statystyka <- (all -\n",
    "oneYear) /(odchylenie/sqrt(100))\n",
    "statystyka"
   ]
  },
  {
   "cell_type": "markdown",
   "metadata": {},
   "source": [
    "Wniosek:\n",
    "Wartość statystyki należy do zbioru krytycznego - w takim wypadku odrzucamy hipotezę zerową. Oznacza to, że rok 2016 faktycznie był ponadprzeciętny w historii gier, notując lepsze wyniki sprzedażowe, średnio aż o 40 tys. dolarów."
   ]
  },
  {
   "cell_type": "markdown",
   "metadata": {},
   "source": [
    "<big> <big> 3. Korelacja"
   ]
  },
  {
   "cell_type": "code",
   "execution_count": 100,
   "metadata": {},
   "outputs": [
    {
     "data": {
      "image/png": "[encoded data removed]",
      "text/plain": [
       "plot without title"
      ]
     },
     "metadata": {},
     "output_type": "display_data"
    }
   ],
   "source": [
    "x1 <- file$Global_Sales\n",
    "x2 <- file$NA_Sales\n",
    "plot(x1,x2,xlab = \"Sprzedaż całkowita\",ylab=\"Sprzedaż w Ameryce\")"
   ]
  },
  {
   "cell_type": "markdown",
   "metadata": {},
   "source": [
    "Powyższy wykres bardzo wyraźnie obrazuje nam prostą zależność - sprzedaż całkowita jest zależna od sprzedaży w Ameryce."
   ]
  },
  {
   "cell_type": "code",
   "execution_count": 101,
   "metadata": {},
   "outputs": [
    {
     "data": {
      "image/png": "[encoded data removed]",
      "text/plain": [
       "plot without title"
      ]
     },
     "metadata": {},
     "output_type": "display_data"
    }
   ],
   "source": [
    "y1 <- file$JP_Sales\n",
    "y2 <- file$Other_Sales\n",
    "plot(y1,y2,xlab=\"Sprzedaż w Japonii\",ylab=\"Sprzedaż w pozostałych krajach\")"
   ]
  },
  {
   "cell_type": "markdown",
   "metadata": {},
   "source": [
    "Powyższy wykres przedstawia zależność sprzedaży w Japonii do pozostałych krajów. Możemy zauważyć, że im wyższa sprzedaż w Japonii, tym niższa sprzedaż w pozostałych krajach (i odwrotnie)."
   ]
  },
  {
   "cell_type": "markdown",
   "metadata": {},
   "source": [
    "<big> <big> 4. Podsumowanie "
   ]
  },
  {
   "cell_type": "markdown",
   "metadata": {},
   "source": [
    "Zanalizowane właśnie dane przedstawiają głównie zależności dotyczące sprzedaży w różnych krajach - zawierają dodatkowo informację chociażby o roku wydania, co pozwala sprawdzić które lata były dla gier wideo najlepsze. Niestety duża ilość zbioru jest podana tekstowo - z informacji o platformach czy gatunkach nie wyciągniemy niewiele więcej, niż informacja o najbardziej i najmniej popularnych. Podsumowując, dane są dość jednowymiarowe - zawierają głównie informacje o sprzedaży, jednak są to wiadomości szczegółowe i w bardzo dużych ilościach, co pozwala na dokładne określenie zależności pomiędzy konkretnymi wartościami. Warto byłoby wzbogacić je w przyszłości o informacje dotyczące chociażby popularności gry na przestrzeni lat, co pozwoliłoby na wyciągnięcie wielu ciekawych wniosków."
   ]
  }
 ],
 "metadata": {
  "kernelspec": {
   "display_name": "R",
   "language": "R",
   "name": "ir"
  },
  "language_info": {
   "codemirror_mode": "r",
   "file_extension": ".r",
   "mimetype": "text/x-r-source",
   "name": "R",
   "pygments_lexer": "r",
   "version": "3.6.1"
  }
 },
 "nbformat": 4,
 "nbformat_minor": 4
}
